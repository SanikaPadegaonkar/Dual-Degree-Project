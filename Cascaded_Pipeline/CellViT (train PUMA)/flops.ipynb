{
 "cells": [
  {
   "cell_type": "code",
   "execution_count": 1,
   "id": "0ec15190-810e-474c-81ab-e0893403a242",
   "metadata": {},
   "outputs": [
    {
     "name": "stdout",
     "output_type": "stream",
     "text": [
      "/workspace/sealent/deepseek_test/sanika/CellViT_puma/CellViT_with_puma\n"
     ]
    }
   ],
   "source": [
    "import sys\n",
    "import os\n",
    "\n",
    "print(os.getcwd())\n",
    "\n",
    "sys.path.append(os.getcwd())"
   ]
  },
  {
   "cell_type": "code",
   "execution_count": 2,
   "id": "5ca0e016-5e51-4a17-b0e1-8c8b1d7b9b09",
   "metadata": {},
   "outputs": [
    {
     "name": "stdout",
     "output_type": "stream",
     "text": [
      "/workspace/sealent/deepseek_test/sanika/CellViT_puma/CellViT_with_puma\n"
     ]
    },
    {
     "name": "stderr",
     "output_type": "stream",
     "text": [
      "/usr/local/lib/python3.12/dist-packages/IPython/core/magics/osm.py:417: UserWarning: This is now an optional IPython functionality, setting dhist requires you to install the `pickleshare` library.\n",
      "  self.shell.db['dhist'] = compress_dhist(dhist)[-100:]\n"
     ]
    },
    {
     "ename": "ModuleNotFoundError",
     "evalue": "No module named 'ptflops'",
     "output_type": "error",
     "traceback": [
      "\u001b[0;31m---------------------------------------------------------------------------\u001b[0m",
      "\u001b[0;31mModuleNotFoundError\u001b[0m                       Traceback (most recent call last)",
      "Cell \u001b[0;32mIn[2], line 2\u001b[0m\n\u001b[1;32m      1\u001b[0m get_ipython()\u001b[38;5;241m.\u001b[39mrun_line_magic(\u001b[38;5;124m'\u001b[39m\u001b[38;5;124mcd\u001b[39m\u001b[38;5;124m'\u001b[39m, \u001b[38;5;124m'\u001b[39m\u001b[38;5;124m.\u001b[39m\u001b[38;5;124m'\u001b[39m)\n\u001b[0;32m----> 2\u001b[0m \u001b[38;5;28;01mfrom\u001b[39;00m \u001b[38;5;21;01mptflops\u001b[39;00m \u001b[38;5;28;01mimport\u001b[39;00m get_model_complexity_info\n\u001b[1;32m      3\u001b[0m \u001b[38;5;28;01mimport\u001b[39;00m \u001b[38;5;21;01mtorch\u001b[39;00m\n\u001b[1;32m      4\u001b[0m \u001b[38;5;28;01mimport\u001b[39;00m \u001b[38;5;21;01mtorchvision\u001b[39;00m\u001b[38;5;21;01m.\u001b[39;00m\u001b[38;5;21;01mmodels\u001b[39;00m \u001b[38;5;28;01mas\u001b[39;00m \u001b[38;5;21;01mmodels\u001b[39;00m\n",
      "\u001b[0;31mModuleNotFoundError\u001b[0m: No module named 'ptflops'"
     ]
    }
   ],
   "source": [
    "%cd .\n",
    "from ptflops import get_model_complexity_info\n",
    "import torch\n",
    "import torchvision.models as models\n",
    "from models.segmentation.cell_segmentation.cellvit import (\n",
    "    CellViT, CellViT256, CellViTSAM\n",
    ")\n",
    "from models.segmentation.cell_segmentation.cellvit_shared import (\n",
    "    CellViTShared, CellViT256Shared, CellViTSAMShared\n",
    ")\n",
    "model_classes = {\n",
    "            \"CellViT\": CellViT,\n",
    "            \"CellViTShared\": CellViTShared,\n",
    "            \"CellViT256\": CellViT256,\n",
    "            \"CellViT256Shared\": CellViT256Shared,\n",
    "            \"CellViTSAM\": CellViTSAM,\n",
    "            \"CellViTSAMShared\": CellViTSAMShared,\n",
    "}\n",
    "\n",
    "ckpt_path = \"logs/Puma/Log/2025-04-16T090850_CellViT-default/checkpoints/latest_checkpoint.pth\"\n",
    "checkpoint = torch.load(ckpt_path, weights_only=False)\n",
    "model_type = checkpoint[\"arch\"]\n",
    "model = model_classes[model_type](\n",
    "            model256_path=None,\n",
    "            num_nuclei_classes=11,\n",
    "            num_tissue_classes=7,\n",
    "            regression_loss=False,\n",
    ")\n",
    "model.load_state_dict(checkpoint[\"model_state_dict\"])\n",
    "#print(model.keys())\n",
    "net = models.densenet161()\n",
    "print(type(model))\n",
    "print(type(net))\n",
    "macs, params = get_model_complexity_info(model, (3, 256, 256), as_strings=True, backend='pytorch',print_per_layer_stat=True, verbose=True)\n",
    "print('{:<30}  {:<8}'.format('Computational complexity: ', macs))\n",
    "print('{:<30}  {:<8}'.format('Number of parameters: ', params))"
   ]
  },
  {
   "cell_type": "code",
   "execution_count": null,
   "id": "0a574851-850a-4d5e-909b-3a141db2476b",
   "metadata": {},
   "outputs": [],
   "source": []
  }
 ],
 "metadata": {
  "kernelspec": {
   "display_name": "Python 3 (ipykernel)",
   "language": "python",
   "name": "python3"
  },
  "language_info": {
   "codemirror_mode": {
    "name": "ipython",
    "version": 3
   },
   "file_extension": ".py",
   "mimetype": "text/x-python",
   "name": "python",
   "nbconvert_exporter": "python",
   "pygments_lexer": "ipython3",
   "version": "3.12.3"
  }
 },
 "nbformat": 4,
 "nbformat_minor": 5
}
